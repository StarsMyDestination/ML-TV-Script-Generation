{
 "cells": [
  {
   "cell_type": "markdown",
   "metadata": {
    "deletable": true,
    "editable": true
   },
   "source": [
    "# TV Script Generation\n",
    "In this project, you'll generate your own [Simpsons](https://en.wikipedia.org/wiki/The_Simpsons) TV scripts using RNNs.  You'll be using part of the [Simpsons dataset](https://www.kaggle.com/wcukierski/the-simpsons-by-the-data) of scripts from 27 seasons.  The Neural Network you'll build will generate a new TV script for a scene at [Moe's Tavern](https://simpsonswiki.com/wiki/Moe's_Tavern).\n",
    "## Get the Data\n",
    "The data is already provided for you.  You'll be using a subset of the original dataset.  It consists of only the scenes in Moe's Tavern.  This doesn't include other versions of the tavern, like \"Moe's Cavern\", \"Flaming Moe's\", \"Uncle Moe's Family Feed-Bag\", etc.."
   ]
  },
  {
   "cell_type": "code",
   "execution_count": 1,
   "metadata": {
    "collapsed": false,
    "deletable": true,
    "editable": true
   },
   "outputs": [],
   "source": [
    "\"\"\"\n",
    "DON'T MODIFY ANYTHING IN THIS CELL\n",
    "\"\"\"\n",
    "import helper\n",
    "\n",
    "data_dir = './data/simpsons/moes_tavern_lines.txt'\n",
    "text = helper.load_data(data_dir)\n",
    "# Ignore notice, since we don't use it for analysing the data\n",
    "text = text[81:]"
   ]
  },
  {
   "cell_type": "markdown",
   "metadata": {
    "deletable": true,
    "editable": true
   },
   "source": [
    "## Explore the Data\n",
    "Play around with `view_sentence_range` to view different parts of the data."
   ]
  },
  {
   "cell_type": "code",
   "execution_count": 2,
   "metadata": {
    "collapsed": false,
    "deletable": true,
    "editable": true
   },
   "outputs": [
    {
     "name": "stdout",
     "output_type": "stream",
     "text": [
      "Dataset Stats\n",
      "Roughly the number of unique words: 11492\n",
      "Number of scenes: 262\n",
      "Average number of sentences in each scene: 15.248091603053435\n",
      "Number of lines: 4257\n",
      "Average number of words in each line: 11.50434578341555\n",
      "\n",
      "The sentences 0 to 10:\n",
      "Moe_Szyslak: (INTO PHONE) Moe's Tavern. Where the elite meet to drink.\n",
      "Bart_Simpson: Eh, yeah, hello, is Mike there? Last name, Rotch.\n",
      "Moe_Szyslak: (INTO PHONE) Hold on, I'll check. (TO BARFLIES) Mike Rotch. Mike Rotch. Hey, has anybody seen Mike Rotch, lately?\n",
      "Moe_Szyslak: (INTO PHONE) Listen you little puke. One of these days I'm gonna catch you, and I'm gonna carve my name on your back with an ice pick.\n",
      "Moe_Szyslak: What's the matter Homer? You're not your normal effervescent self.\n",
      "Homer_Simpson: I got my problems, Moe. Give me another one.\n",
      "Moe_Szyslak: Homer, hey, you should not drink to forget your problems.\n",
      "Barney_Gumble: Yeah, you should only drink to enhance your social skills.\n",
      "\n",
      "\n"
     ]
    }
   ],
   "source": [
    "view_sentence_range = (0, 10)\n",
    "\n",
    "\"\"\"\n",
    "DON'T MODIFY ANYTHING IN THIS CELL\n",
    "\"\"\"\n",
    "import numpy as np\n",
    "\n",
    "print('Dataset Stats')\n",
    "print('Roughly the number of unique words: {}'.format(len({word: None for word in text.split()})))\n",
    "scenes = text.split('\\n\\n')\n",
    "print('Number of scenes: {}'.format(len(scenes)))\n",
    "sentence_count_scene = [scene.count('\\n') for scene in scenes]\n",
    "print('Average number of sentences in each scene: {}'.format(np.average(sentence_count_scene)))\n",
    "\n",
    "sentences = [sentence for scene in scenes for sentence in scene.split('\\n')]\n",
    "print('Number of lines: {}'.format(len(sentences)))\n",
    "word_count_sentence = [len(sentence.split()) for sentence in sentences]\n",
    "print('Average number of words in each line: {}'.format(np.average(word_count_sentence)))\n",
    "\n",
    "print()\n",
    "print('The sentences {} to {}:'.format(*view_sentence_range))\n",
    "print('\\n'.join(text.split('\\n')[view_sentence_range[0]:view_sentence_range[1]]))"
   ]
  },
  {
   "cell_type": "markdown",
   "metadata": {
    "deletable": true,
    "editable": true
   },
   "source": [
    "## Implement Preprocessing Functions\n",
    "The first thing to do to any dataset is preprocessing.  Implement the following preprocessing functions below:\n",
    "- Lookup Table\n",
    "- Tokenize Punctuation\n",
    "\n",
    "### Lookup Table\n",
    "To create a word embedding, you first need to transform the words to ids.  In this function, create two dictionaries:\n",
    "- Dictionary to go from the words to an id, we'll call `vocab_to_int`\n",
    "- Dictionary to go from the id to word, we'll call `int_to_vocab`\n",
    "\n",
    "Return these dictionaries in the following tuple `(vocab_to_int, int_to_vocab)`"
   ]
  },
  {
   "cell_type": "code",
   "execution_count": 8,
   "metadata": {
    "collapsed": false,
    "deletable": true,
    "editable": true
   },
   "outputs": [
    {
     "name": "stdout",
     "output_type": "stream",
     "text": [
      "Tests Passed\n"
     ]
    }
   ],
   "source": [
    "import numpy as np\n",
    "import problem_unittests as tests\n",
    "from collections import Counter\n",
    "\n",
    "def create_lookup_tables(text):\n",
    "    \"\"\"\n",
    "    Create lookup tables for vocabulary\n",
    "    :param text: The text of tv scripts split into words\n",
    "    :return: A tuple of dicts (vocab_to_int, int_to_vocab)\n",
    "    \"\"\"\n",
    "    # TODO: Implement Function\n",
    "    word_counter = Counter(text)\n",
    "    sorted_vocab = sorted(word_counter, key=word_counter.get, reverse=True)\n",
    "    vocab_to_int = {word: idx for idx, word in enumerate(sorted_vocab)}\n",
    "    int_to_vocab = {idx: word for word, idx in vocab_to_int.items()}\n",
    "    return vocab_to_int, int_to_vocab\n",
    "\n",
    "\n",
    "\"\"\"\n",
    "DON'T MODIFY ANYTHING IN THIS CELL THAT IS BELOW THIS LINE\n",
    "\"\"\"\n",
    "tests.test_create_lookup_tables(create_lookup_tables)"
   ]
  },
  {
   "cell_type": "markdown",
   "metadata": {
    "deletable": true,
    "editable": true
   },
   "source": [
    "### Tokenize Punctuation\n",
    "We'll be splitting the script into a word array using spaces as delimiters.  However, punctuations like periods and exclamation marks make it hard for the neural network to distinguish between the word \"bye\" and \"bye!\".\n",
    "\n",
    "Implement the function `token_lookup` to return a dict that will be used to tokenize symbols like \"!\" into \"||Exclamation_Mark||\".  Create a dictionary for the following symbols where the symbol is the key and value is the token:\n",
    "- Period ( . )\n",
    "- Comma ( , )\n",
    "- Quotation Mark ( \" )\n",
    "- Semicolon ( ; )\n",
    "- Exclamation mark ( ! )\n",
    "- Question mark ( ? )\n",
    "- Left Parentheses ( ( )\n",
    "- Right Parentheses ( ) )\n",
    "- Dash ( -- )\n",
    "- Return ( \\n )\n",
    "\n",
    "This dictionary will be used to token the symbols and add the delimiter (space) around it.  This separates the symbols as it's own word, making it easier for the neural network to predict on the next word. Make sure you don't use a token that could be confused as a word. Instead of using the token \"dash\", try using something like \"||dash||\"."
   ]
  },
  {
   "cell_type": "code",
   "execution_count": 12,
   "metadata": {
    "collapsed": false,
    "deletable": true,
    "editable": true
   },
   "outputs": [
    {
     "name": "stdout",
     "output_type": "stream",
     "text": [
      "Tests Passed\n"
     ]
    }
   ],
   "source": [
    "def token_lookup():\n",
    "    \"\"\"\n",
    "    Generate a dict to turn punctuation into a token.\n",
    "    :return: Tokenize dictionary where the key is the punctuation and the value is the token\n",
    "    \"\"\"\n",
    "    # TODO: Implement Function\n",
    "    punc_to_token = {}\n",
    "    punc_to_token['.'] = '<PERIOD>'\n",
    "    punc_to_token[','] = '<COMMA>'\n",
    "    punc_to_token['\"'] = '<QUOTATION_MARK>'\n",
    "    punc_to_token[';'] = '<SEMICOLON>'\n",
    "    punc_to_token['!'] = '<EXCLAMATION_MARK>'\n",
    "    punc_to_token['?'] = '<QUESTION_MARK>'\n",
    "    punc_to_token['('] = '<LEFT_PAREN>'\n",
    "    punc_to_token[')'] = '<RIGHT_PAREN>'\n",
    "    punc_to_token['--'] = '<DASH>'\n",
    "    punc_to_token['\\n'] = '<NEW_L>'\n",
    "    return punc_to_token\n",
    "\n",
    "\"\"\"\n",
    "DON'T MODIFY ANYTHING IN THIS CELL THAT IS BELOW THIS LINE\n",
    "\"\"\"\n",
    "tests.test_tokenize(token_lookup)"
   ]
  },
  {
   "cell_type": "markdown",
   "metadata": {
    "deletable": true,
    "editable": true
   },
   "source": [
    "## Preprocess all the data and save it\n",
    "Running the code cell below will preprocess all the data and save it to file."
   ]
  },
  {
   "cell_type": "code",
   "execution_count": 13,
   "metadata": {
    "collapsed": false,
    "deletable": true,
    "editable": true
   },
   "outputs": [],
   "source": [
    "\"\"\"\n",
    "DON'T MODIFY ANYTHING IN THIS CELL\n",
    "\"\"\"\n",
    "# Preprocess Training, Validation, and Testing Data\n",
    "helper.preprocess_and_save_data(data_dir, token_lookup, create_lookup_tables)"
   ]
  },
  {
   "cell_type": "markdown",
   "metadata": {
    "deletable": true,
    "editable": true
   },
   "source": [
    "# Check Point\n",
    "This is your first checkpoint. If you ever decide to come back to this notebook or have to restart the notebook, you can start from here. The preprocessed data has been saved to disk."
   ]
  },
  {
   "cell_type": "code",
   "execution_count": 14,
   "metadata": {
    "collapsed": false,
    "deletable": true,
    "editable": true
   },
   "outputs": [],
   "source": [
    "\"\"\"\n",
    "DON'T MODIFY ANYTHING IN THIS CELL\n",
    "\"\"\"\n",
    "import helper\n",
    "import numpy as np\n",
    "import problem_unittests as tests\n",
    "\n",
    "int_text, vocab_to_int, int_to_vocab, token_dict = helper.load_preprocess()"
   ]
  },
  {
   "cell_type": "markdown",
   "metadata": {
    "deletable": true,
    "editable": true
   },
   "source": [
    "## Build the Neural Network\n",
    "You'll build the components necessary to build a RNN by implementing the following functions below:\n",
    "- get_inputs\n",
    "- get_init_cell\n",
    "- get_embed\n",
    "- build_rnn\n",
    "- build_nn\n",
    "- get_batches\n",
    "\n",
    "### Check the Version of TensorFlow and Access to GPU"
   ]
  },
  {
   "cell_type": "code",
   "execution_count": 15,
   "metadata": {
    "collapsed": false
   },
   "outputs": [
    {
     "name": "stdout",
     "output_type": "stream",
     "text": [
      "TensorFlow Version: 1.0.0\n"
     ]
    },
    {
     "name": "stderr",
     "output_type": "stream",
     "text": [
      "/Users/apple/anaconda/lib/python3.6/site-packages/ipykernel/__main__.py:14: UserWarning: No GPU found. Please use a GPU to train your neural network.\n"
     ]
    }
   ],
   "source": [
    "\"\"\"\n",
    "DON'T MODIFY ANYTHING IN THIS CELL\n",
    "\"\"\"\n",
    "from distutils.version import LooseVersion\n",
    "import warnings\n",
    "import tensorflow as tf\n",
    "\n",
    "# Check TensorFlow Version\n",
    "assert LooseVersion(tf.__version__) >= LooseVersion('1.0'), 'Please use TensorFlow version 1.0 or newer'\n",
    "print('TensorFlow Version: {}'.format(tf.__version__))\n",
    "\n",
    "# Check for a GPU\n",
    "if not tf.test.gpu_device_name():\n",
    "    warnings.warn('No GPU found. Please use a GPU to train your neural network.')\n",
    "else:\n",
    "    print('Default GPU Device: {}'.format(tf.test.gpu_device_name()))"
   ]
  },
  {
   "cell_type": "markdown",
   "metadata": {},
   "source": [
    "### Input\n",
    "Implement the `get_inputs()` function to create TF Placeholders for the Neural Network.  It should create the following placeholders:\n",
    "- Input text placeholder named \"input\" using the [TF Placeholder](https://www.tensorflow.org/api_docs/python/tf/placeholder) `name` parameter.\n",
    "- Targets placeholder\n",
    "- Learning Rate placeholder\n",
    "\n",
    "Return the placeholders in the following the tuple `(Input, Targets, LearingRate)`"
   ]
  },
  {
   "cell_type": "code",
   "execution_count": 133,
   "metadata": {
    "collapsed": false,
    "deletable": true,
    "editable": true
   },
   "outputs": [
    {
     "name": "stdout",
     "output_type": "stream",
     "text": [
      "Tests Passed\n"
     ]
    }
   ],
   "source": [
    "def get_inputs():\n",
    "    \"\"\"\n",
    "    Create TF Placeholders for input, targets, and learning rate.\n",
    "    :return: Tuple (input, targets, learning rate)\n",
    "    \"\"\"\n",
    "    # TODO: Implement Function\n",
    "    _input = tf.placeholder(tf.int32, shape=(None, None), name='input')\n",
    "    _targets = tf.placeholder(tf.int32,shape=(None, None), name='targets')\n",
    "    _learning_rate = tf.placeholder(tf.float32, name='learning_rate')\n",
    "    return _input, _targets, _learning_rate\n",
    "\n",
    "\n",
    "\"\"\"\n",
    "DON'T MODIFY ANYTHING IN THIS CELL THAT IS BELOW THIS LINE\n",
    "\"\"\"\n",
    "tests.test_get_inputs(get_inputs)"
   ]
  },
  {
   "cell_type": "markdown",
   "metadata": {
    "deletable": true,
    "editable": true
   },
   "source": [
    "### Build RNN Cell and Initialize\n",
    "Stack one or more [`BasicLSTMCells`](https://www.tensorflow.org/api_docs/python/tf/contrib/rnn/BasicLSTMCell) in a [`MultiRNNCell`](https://www.tensorflow.org/api_docs/python/tf/contrib/rnn/MultiRNNCell).\n",
    "- The Rnn size should be set using `rnn_size`\n",
    "- Initalize Cell State using the MultiRNNCell's [`zero_state()`](https://www.tensorflow.org/api_docs/python/tf/contrib/rnn/MultiRNNCell#zero_state) function\n",
    "    - Apply the name \"initial_state\" to the initial state using [`tf.identity()`](https://www.tensorflow.org/api_docs/python/tf/identity)\n",
    "\n",
    "Return the cell and initial state in the following tuple `(Cell, InitialState)`"
   ]
  },
  {
   "cell_type": "code",
   "execution_count": 134,
   "metadata": {
    "collapsed": false,
    "deletable": true,
    "editable": true
   },
   "outputs": [
    {
     "name": "stdout",
     "output_type": "stream",
     "text": [
      "Tests Passed\n"
     ]
    }
   ],
   "source": [
    "def get_init_cell(batch_size, rnn_size):\n",
    "    \"\"\"\n",
    "    Create an RNN Cell and initialize it.\n",
    "    :param batch_size: Size of batches\n",
    "    :param rnn_size: Size of RNNs\n",
    "    :return: Tuple (cell, initialize state)\n",
    "    \"\"\"\n",
    "    # TODO: Implement Function\n",
    "    cell = tf.contrib.rnn.BasicLSTMCell(rnn_size)\n",
    "    cell = tf.contrib.rnn.MultiRNNCell([cell] * 2)\n",
    "    initial_state = cell.zero_state(batch_size, tf.float32)\n",
    "    initial_state = tf.identity(initial_state, name='initial_state')\n",
    "    return cell, initial_state\n",
    "\n",
    "\n",
    "\"\"\"\n",
    "DON'T MODIFY ANYTHING IN THIS CELL THAT IS BELOW THIS LINE\n",
    "\"\"\"\n",
    "tests.test_get_init_cell(get_init_cell)"
   ]
  },
  {
   "cell_type": "markdown",
   "metadata": {
    "deletable": true,
    "editable": true
   },
   "source": [
    "### Word Embedding\n",
    "Apply embedding to `input_data` using TensorFlow.  Return the embedded sequence."
   ]
  },
  {
   "cell_type": "code",
   "execution_count": 135,
   "metadata": {
    "collapsed": false,
    "deletable": true,
    "editable": true
   },
   "outputs": [
    {
     "name": "stdout",
     "output_type": "stream",
     "text": [
      "Tests Passed\n"
     ]
    }
   ],
   "source": [
    "def get_embed(input_data, vocab_size, embed_dim):\n",
    "    \"\"\"\n",
    "    Create embedding for <input_data>.\n",
    "    :param input_data: TF placeholder for text input.\n",
    "    :param vocab_size: Number of words in vocabulary.\n",
    "    :param embed_dim: Number of embedding dimensions\n",
    "    :return: Embedded input.\n",
    "    \"\"\"\n",
    "    # TODO: Implement Function\n",
    "    embedding = tf.get_variable('embedding', shape=(vocab_size, embed_dim))\n",
    "    return tf.nn.embedding_lookup(embedding, input_data)\n",
    "\n",
    "\n",
    "\"\"\"\n",
    "DON'T MODIFY ANYTHING IN THIS CELL THAT IS BELOW THIS LINE\n",
    "\"\"\"\n",
    "tests.test_get_embed(get_embed)"
   ]
  },
  {
   "cell_type": "markdown",
   "metadata": {
    "deletable": true,
    "editable": true
   },
   "source": [
    "### Build RNN\n",
    "You created a RNN Cell in the `get_init_cell()` function.  Time to use the cell to create a RNN.\n",
    "- Build the RNN using the [`tf.nn.dynamic_rnn()`](https://www.tensorflow.org/api_docs/python/tf/nn/dynamic_rnn)\n",
    " - Apply the name \"final_state\" to the final state using [`tf.identity()`](https://www.tensorflow.org/api_docs/python/tf/identity)\n",
    "\n",
    "Return the outputs and final_state state in the following tuple `(Outputs, FinalState)` "
   ]
  },
  {
   "cell_type": "code",
   "execution_count": 136,
   "metadata": {
    "collapsed": false,
    "deletable": true,
    "editable": true
   },
   "outputs": [
    {
     "name": "stdout",
     "output_type": "stream",
     "text": [
      "Tests Passed\n"
     ]
    }
   ],
   "source": [
    "def build_rnn(cell, inputs):\n",
    "    \"\"\"\n",
    "    Create a RNN using a RNN Cell\n",
    "    :param cell: RNN Cell\n",
    "    :param inputs: Input text data\n",
    "    :return: Tuple (Outputs, Final State)\n",
    "    \"\"\"\n",
    "    # TODO: Implement Function\n",
    "    outputs, state = tf.nn.dynamic_rnn(cell, inputs=inputs, dtype=tf.float32)\n",
    "    final_state = tf.identity(state, name='final_state')\n",
    "    return outputs, final_state\n",
    "\n",
    "\n",
    "\"\"\"\n",
    "DON'T MODIFY ANYTHING IN THIS CELL THAT IS BELOW THIS LINE\n",
    "\"\"\"\n",
    "tests.test_build_rnn(build_rnn)"
   ]
  },
  {
   "cell_type": "markdown",
   "metadata": {
    "deletable": true,
    "editable": true
   },
   "source": [
    "### Build the Neural Network\n",
    "Apply the functions you implemented above to:\n",
    "- Apply embedding to `input_data` using your `get_embed(input_data, vocab_size, embed_dim)` function.\n",
    "- Build RNN using `cell` and your `build_rnn(cell, inputs)` function.\n",
    "- Apply a fully connected layer with a linear activation and `vocab_size` as the number of outputs.\n",
    "\n",
    "Return the logits and final state in the following tuple (Logits, FinalState) "
   ]
  },
  {
   "cell_type": "code",
   "execution_count": 137,
   "metadata": {
    "collapsed": false,
    "deletable": true,
    "editable": true
   },
   "outputs": [
    {
     "name": "stdout",
     "output_type": "stream",
     "text": [
      "Tests Passed\n"
     ]
    }
   ],
   "source": [
    "def build_nn(cell, rnn_size, input_data, vocab_size):\n",
    "    \"\"\"\n",
    "    Build part of the neural network\n",
    "    :param cell: RNN cell\n",
    "    :param rnn_size: Size of rnns\n",
    "    :param input_data: Input data\n",
    "    :param vocab_size: Vocabulary size\n",
    "    :return: Tuple (Logits, FinalState)\n",
    "    \"\"\"\n",
    "    # TODO: Implement Function\n",
    "    batch_size, num_steps = input_data.get_shape().as_list()\n",
    "    embed_input = get_embed(input_data, vocab_size, embed_dim=200)\n",
    "    outputs, final_state = build_rnn(cell, inputs=embed_input)\n",
    "#     outputs = tf.reshape(outputs, shape=(-1, rnn_size))\n",
    "    \n",
    "#     fc_w = tf.get_variable('fc_w', shape=(rnn_size, vocab_size))\n",
    "#     fc_b = tf.get_variable('fc_b', shape=(vocab_size))\n",
    "#     logits = tf.matmul(outputs, fc_w) + fc_b\n",
    "# #     print(batch_size, num_steps)\n",
    "#     logits = tf.reshape(logits, shape=(-1, num_steps, vocab_size))\n",
    "\n",
    "    logits = tf.contrib.layers.fully_connected(outputs, vocab_size, activation_fn=None)\n",
    "\n",
    "    return logits, final_state\n",
    "\n",
    "\n",
    "\"\"\"\n",
    "DON'T MODIFY ANYTHING IN THIS CELL THAT IS BELOW THIS LINE\n",
    "\"\"\"\n",
    "tests.test_build_nn(build_nn)"
   ]
  },
  {
   "cell_type": "markdown",
   "metadata": {
    "deletable": true,
    "editable": true
   },
   "source": [
    "### Batches\n",
    "Implement `get_batches` to create batches of input and targets using `int_text`.  The batches should be a Numpy array with the shape `(number of batches, 2, batch size, sequence length)`. Each batch contains two elements:\n",
    "- The first element is a single batch of **input** with the shape `[batch size, sequence length]`\n",
    "- The second element is a single batch of **targets** with the shape `[batch size, sequence length]`\n",
    "\n",
    "If you can't fill the last batch with enough data, drop the last batch.\n",
    "\n",
    "For exmple, `get_batches([1, 2, 3, 4, 5, 6, 7, 8, 9, 10, 11, 12, 13, 14, 15], 2, 3)` would return a Numpy array of the following:\n",
    "```\n",
    "[\n",
    "  # First Batch\n",
    "  [\n",
    "    # Batch of Input\n",
    "    [[ 1  2  3], [ 7  8  9]],\n",
    "    # Batch of targets\n",
    "    [[ 2  3  4], [ 8  9 10]]\n",
    "  ],\n",
    " \n",
    "  # Second Batch\n",
    "  [\n",
    "    # Batch of Input\n",
    "    [[ 4  5  6], [10 11 12]],\n",
    "    # Batch of targets\n",
    "    [[ 5  6  7], [11 12 13]]\n",
    "  ]\n",
    "]\n",
    "```"
   ]
  },
  {
   "cell_type": "code",
   "execution_count": 138,
   "metadata": {
    "collapsed": false,
    "deletable": true,
    "editable": true
   },
   "outputs": [
    {
     "name": "stdout",
     "output_type": "stream",
     "text": [
      "Tests Passed\n"
     ]
    }
   ],
   "source": [
    "def get_batches(int_text, batch_size, seq_length):\n",
    "    \"\"\"\n",
    "    Return batches of input and target\n",
    "    :param int_text: Text with the words replaced by their ids\n",
    "    :param batch_size: The size of batch\n",
    "    :param seq_length: The length of sequence\n",
    "    :return: Batches as a Numpy array\n",
    "    \"\"\"\n",
    "    # TODO: Implement Function\n",
    "    n_batches = int(len(int_text) / (batch_size * seq_length))\n",
    "\n",
    "    # Drop the last few characters to make only full batches\n",
    "    xdata = np.array(int_text[: n_batches * batch_size * seq_length])\n",
    "    ydata = np.array(int_text[1: n_batches * batch_size * seq_length + 1])\n",
    "\n",
    "    x_batches = np.split(xdata.reshape(batch_size, -1), n_batches, 1)\n",
    "    y_batches = np.split(ydata.reshape(batch_size, -1), n_batches, 1)\n",
    "#     print('x_batches.shape: {}'.format(x_batches[0].shape))\n",
    "    xy_batches = [np.stack([x, y], axis=0) for x, y in zip(x_batches, y_batches)]\n",
    "#     print(xy_batches[0].shape)\n",
    "    return np.stack(xy_batches, axis=0)\n",
    "\n",
    "\"\"\"\n",
    "DON'T MODIFY ANYTHING IN THIS CELL THAT IS BELOW THIS LINE\n",
    "\"\"\"\n",
    "tests.test_get_batches(get_batches)"
   ]
  },
  {
   "cell_type": "markdown",
   "metadata": {
    "deletable": true,
    "editable": true
   },
   "source": [
    "## Neural Network Training\n",
    "### Hyperparameters\n",
    "Tune the following parameters:\n",
    "\n",
    "- Set `num_epochs` to the number of epochs.\n",
    "- Set `batch_size` to the batch size.\n",
    "- Set `rnn_size` to the size of the RNNs.\n",
    "- Set `seq_length` to the length of sequence.\n",
    "- Set `learning_rate` to the learning rate.\n",
    "- Set `show_every_n_batches` to the number of batches the neural network should print progress."
   ]
  },
  {
   "cell_type": "code",
   "execution_count": 149,
   "metadata": {
    "collapsed": true,
    "deletable": true,
    "editable": true
   },
   "outputs": [],
   "source": [
    "# Number of Epochs\n",
    "num_epochs = 50\n",
    "# Batch Size\n",
    "batch_size = 50\n",
    "# RNN Size\n",
    "rnn_size = 128\n",
    "# Sequence Length\n",
    "seq_length = 30\n",
    "# Learning Rate\n",
    "learning_rate = 0.01\n",
    "# Show stats for every n number of batches\n",
    "show_every_n_batches = 10\n",
    "\n",
    "\"\"\"\n",
    "DON'T MODIFY ANYTHING IN THIS CELL THAT IS BELOW THIS LINE\n",
    "\"\"\"\n",
    "save_dir = './save'"
   ]
  },
  {
   "cell_type": "markdown",
   "metadata": {
    "deletable": true,
    "editable": true
   },
   "source": [
    "### Build the Graph\n",
    "Build the graph using the neural network you implemented."
   ]
  },
  {
   "cell_type": "code",
   "execution_count": 150,
   "metadata": {
    "collapsed": false,
    "deletable": true,
    "editable": true,
    "scrolled": false
   },
   "outputs": [],
   "source": [
    "\"\"\"\n",
    "DON'T MODIFY ANYTHING IN THIS CELL\n",
    "\"\"\"\n",
    "from tensorflow.contrib import seq2seq\n",
    "\n",
    "train_graph = tf.Graph()\n",
    "with train_graph.as_default():\n",
    "    vocab_size = len(int_to_vocab)\n",
    "    input_text, targets, lr = get_inputs()\n",
    "    input_data_shape = tf.shape(input_text)\n",
    "    cell, initial_state = get_init_cell(input_data_shape[0], rnn_size)\n",
    "#     print(initial_state.shape)\n",
    "    logits, final_state = build_nn(cell, rnn_size, input_text, vocab_size)\n",
    "\n",
    "    # Probabilities for generating words\n",
    "    probs = tf.nn.softmax(logits, name='probs')\n",
    "\n",
    "    # Loss function\n",
    "    cost = seq2seq.sequence_loss(\n",
    "        logits,\n",
    "        targets,\n",
    "        tf.ones([input_data_shape[0], input_data_shape[1]]))\n",
    "\n",
    "    # Optimizer\n",
    "    optimizer = tf.train.AdamOptimizer(lr)\n",
    "\n",
    "    # Gradient Clipping\n",
    "    gradients = optimizer.compute_gradients(cost)\n",
    "    capped_gradients = [(tf.clip_by_value(grad, -1., 1.), var) for grad, var in gradients]\n",
    "    train_op = optimizer.apply_gradients(capped_gradients)"
   ]
  },
  {
   "cell_type": "markdown",
   "metadata": {
    "deletable": true,
    "editable": true
   },
   "source": [
    "## Train\n",
    "Train the neural network on the preprocessed data.  If you have a hard time getting a good loss, check the [forms](https://discussions.udacity.com/) to see if anyone is having the same problem."
   ]
  },
  {
   "cell_type": "code",
   "execution_count": 151,
   "metadata": {
    "collapsed": false,
    "deletable": true,
    "editable": true
   },
   "outputs": [
    {
     "name": "stdout",
     "output_type": "stream",
     "text": [
      "Epoch   0 Batch    0/46   train_loss = 8.822\n",
      "Epoch   0 Batch   10/46   train_loss = 6.721\n",
      "Epoch   0 Batch   20/46   train_loss = 6.778\n",
      "Epoch   0 Batch   30/46   train_loss = 6.590\n",
      "Epoch   0 Batch   40/46   train_loss = 6.482\n",
      "Epoch   1 Batch    4/46   train_loss = 6.080\n",
      "Epoch   1 Batch   14/46   train_loss = 6.111\n",
      "Epoch   1 Batch   24/46   train_loss = 6.061\n",
      "Epoch   1 Batch   34/46   train_loss = 6.266\n",
      "Epoch   1 Batch   44/46   train_loss = 6.072\n",
      "Epoch   2 Batch    8/46   train_loss = 5.975\n",
      "Epoch   2 Batch   18/46   train_loss = 6.077\n",
      "Epoch   2 Batch   28/46   train_loss = 6.199\n",
      "Epoch   2 Batch   38/46   train_loss = 6.092\n",
      "Epoch   3 Batch    2/46   train_loss = 5.851\n",
      "Epoch   3 Batch   12/46   train_loss = 5.907\n",
      "Epoch   3 Batch   22/46   train_loss = 5.830\n",
      "Epoch   3 Batch   32/46   train_loss = 5.699\n",
      "Epoch   3 Batch   42/46   train_loss = 5.721\n",
      "Epoch   4 Batch    6/46   train_loss = 5.663\n",
      "Epoch   4 Batch   16/46   train_loss = 5.750\n",
      "Epoch   4 Batch   26/46   train_loss = 5.693\n",
      "Epoch   4 Batch   36/46   train_loss = 5.462\n",
      "Epoch   5 Batch    0/46   train_loss = 5.476\n",
      "Epoch   5 Batch   10/46   train_loss = 5.387\n",
      "Epoch   5 Batch   20/46   train_loss = 5.275\n",
      "Epoch   5 Batch   30/46   train_loss = 5.255\n",
      "Epoch   5 Batch   40/46   train_loss = 5.127\n",
      "Epoch   6 Batch    4/46   train_loss = 5.064\n",
      "Epoch   6 Batch   14/46   train_loss = 5.018\n",
      "Epoch   6 Batch   24/46   train_loss = 4.927\n",
      "Epoch   6 Batch   34/46   train_loss = 5.208\n",
      "Epoch   6 Batch   44/46   train_loss = 4.968\n",
      "Epoch   7 Batch    8/46   train_loss = 4.849\n",
      "Epoch   7 Batch   18/46   train_loss = 4.938\n",
      "Epoch   7 Batch   28/46   train_loss = 4.983\n",
      "Epoch   7 Batch   38/46   train_loss = 4.884\n",
      "Epoch   8 Batch    2/46   train_loss = 4.711\n",
      "Epoch   8 Batch   12/46   train_loss = 4.806\n",
      "Epoch   8 Batch   22/46   train_loss = 4.692\n",
      "Epoch   8 Batch   32/46   train_loss = 4.604\n",
      "Epoch   8 Batch   42/46   train_loss = 4.702\n",
      "Epoch   9 Batch    6/46   train_loss = 4.643\n",
      "Epoch   9 Batch   16/46   train_loss = 4.692\n",
      "Epoch   9 Batch   26/46   train_loss = 4.673\n",
      "Epoch   9 Batch   36/46   train_loss = 4.523\n",
      "Epoch  10 Batch    0/46   train_loss = 4.546\n",
      "Epoch  10 Batch   10/46   train_loss = 4.518\n",
      "Epoch  10 Batch   20/46   train_loss = 4.447\n",
      "Epoch  10 Batch   30/46   train_loss = 4.471\n",
      "Epoch  10 Batch   40/46   train_loss = 4.276\n",
      "Epoch  11 Batch    4/46   train_loss = 4.366\n",
      "Epoch  11 Batch   14/46   train_loss = 4.357\n",
      "Epoch  11 Batch   24/46   train_loss = 4.234\n",
      "Epoch  11 Batch   34/46   train_loss = 4.536\n",
      "Epoch  11 Batch   44/46   train_loss = 4.319\n",
      "Epoch  12 Batch    8/46   train_loss = 4.246\n",
      "Epoch  12 Batch   18/46   train_loss = 4.312\n",
      "Epoch  12 Batch   28/46   train_loss = 4.374\n",
      "Epoch  12 Batch   38/46   train_loss = 4.248\n",
      "Epoch  13 Batch    2/46   train_loss = 4.206\n",
      "Epoch  13 Batch   12/46   train_loss = 4.197\n",
      "Epoch  13 Batch   22/46   train_loss = 4.191\n",
      "Epoch  13 Batch   32/46   train_loss = 4.122\n",
      "Epoch  13 Batch   42/46   train_loss = 4.190\n",
      "Epoch  14 Batch    6/46   train_loss = 4.157\n",
      "Epoch  14 Batch   16/46   train_loss = 4.158\n",
      "Epoch  14 Batch   26/46   train_loss = 4.168\n",
      "Epoch  14 Batch   36/46   train_loss = 4.112\n",
      "Epoch  15 Batch    0/46   train_loss = 4.002\n",
      "Epoch  15 Batch   10/46   train_loss = 4.057\n",
      "Epoch  15 Batch   20/46   train_loss = 3.935\n",
      "Epoch  15 Batch   30/46   train_loss = 4.011\n",
      "Epoch  15 Batch   40/46   train_loss = 3.808\n",
      "Epoch  16 Batch    4/46   train_loss = 3.913\n",
      "Epoch  16 Batch   14/46   train_loss = 3.931\n",
      "Epoch  16 Batch   24/46   train_loss = 3.779\n",
      "Epoch  16 Batch   34/46   train_loss = 4.124\n",
      "Epoch  16 Batch   44/46   train_loss = 3.891\n",
      "Epoch  17 Batch    8/46   train_loss = 3.823\n",
      "Epoch  17 Batch   18/46   train_loss = 3.869\n",
      "Epoch  17 Batch   28/46   train_loss = 3.853\n",
      "Epoch  17 Batch   38/46   train_loss = 3.796\n",
      "Epoch  18 Batch    2/46   train_loss = 3.755\n",
      "Epoch  18 Batch   12/46   train_loss = 3.720\n",
      "Epoch  18 Batch   22/46   train_loss = 3.755\n",
      "Epoch  18 Batch   32/46   train_loss = 3.667\n",
      "Epoch  18 Batch   42/46   train_loss = 3.778\n",
      "Epoch  19 Batch    6/46   train_loss = 3.747\n",
      "Epoch  19 Batch   16/46   train_loss = 3.677\n",
      "Epoch  19 Batch   26/46   train_loss = 3.730\n",
      "Epoch  19 Batch   36/46   train_loss = 3.654\n",
      "Epoch  20 Batch    0/46   train_loss = 3.534\n",
      "Epoch  20 Batch   10/46   train_loss = 3.639\n",
      "Epoch  20 Batch   20/46   train_loss = 3.497\n",
      "Epoch  20 Batch   30/46   train_loss = 3.631\n",
      "Epoch  20 Batch   40/46   train_loss = 3.368\n",
      "Epoch  21 Batch    4/46   train_loss = 3.553\n",
      "Epoch  21 Batch   14/46   train_loss = 3.531\n",
      "Epoch  21 Batch   24/46   train_loss = 3.339\n",
      "Epoch  21 Batch   34/46   train_loss = 3.673\n",
      "Epoch  21 Batch   44/46   train_loss = 3.450\n",
      "Epoch  22 Batch    8/46   train_loss = 3.443\n",
      "Epoch  22 Batch   18/46   train_loss = 3.402\n",
      "Epoch  22 Batch   28/46   train_loss = 3.359\n",
      "Epoch  22 Batch   38/46   train_loss = 3.327\n",
      "Epoch  23 Batch    2/46   train_loss = 3.311\n",
      "Epoch  23 Batch   12/46   train_loss = 3.343\n",
      "Epoch  23 Batch   22/46   train_loss = 3.331\n",
      "Epoch  23 Batch   32/46   train_loss = 3.262\n",
      "Epoch  23 Batch   42/46   train_loss = 3.385\n",
      "Epoch  24 Batch    6/46   train_loss = 3.373\n",
      "Epoch  24 Batch   16/46   train_loss = 3.276\n",
      "Epoch  24 Batch   26/46   train_loss = 3.280\n",
      "Epoch  24 Batch   36/46   train_loss = 3.296\n",
      "Epoch  25 Batch    0/46   train_loss = 3.138\n",
      "Epoch  25 Batch   10/46   train_loss = 3.259\n",
      "Epoch  25 Batch   20/46   train_loss = 3.128\n",
      "Epoch  25 Batch   30/46   train_loss = 3.278\n",
      "Epoch  25 Batch   40/46   train_loss = 2.976\n",
      "Epoch  26 Batch    4/46   train_loss = 3.219\n",
      "Epoch  26 Batch   14/46   train_loss = 3.216\n",
      "Epoch  26 Batch   24/46   train_loss = 3.034\n",
      "Epoch  26 Batch   34/46   train_loss = 3.278\n",
      "Epoch  26 Batch   44/46   train_loss = 3.112\n",
      "Epoch  27 Batch    8/46   train_loss = 3.109\n",
      "Epoch  27 Batch   18/46   train_loss = 3.153\n",
      "Epoch  27 Batch   28/46   train_loss = 2.911\n",
      "Epoch  27 Batch   38/46   train_loss = 2.955\n",
      "Epoch  28 Batch    2/46   train_loss = 2.982\n",
      "Epoch  28 Batch   12/46   train_loss = 2.965\n",
      "Epoch  28 Batch   22/46   train_loss = 3.030\n",
      "Epoch  28 Batch   32/46   train_loss = 2.845\n",
      "Epoch  28 Batch   42/46   train_loss = 3.057\n",
      "Epoch  29 Batch    6/46   train_loss = 2.997\n",
      "Epoch  29 Batch   16/46   train_loss = 2.898\n",
      "Epoch  29 Batch   26/46   train_loss = 2.926\n",
      "Epoch  29 Batch   36/46   train_loss = 2.871\n",
      "Epoch  30 Batch    0/46   train_loss = 2.804\n",
      "Epoch  30 Batch   10/46   train_loss = 2.938\n",
      "Epoch  30 Batch   20/46   train_loss = 2.744\n",
      "Epoch  30 Batch   30/46   train_loss = 2.988\n",
      "Epoch  30 Batch   40/46   train_loss = 2.670\n",
      "Epoch  31 Batch    4/46   train_loss = 2.924\n",
      "Epoch  31 Batch   14/46   train_loss = 2.848\n",
      "Epoch  31 Batch   24/46   train_loss = 2.724\n",
      "Epoch  31 Batch   34/46   train_loss = 2.889\n",
      "Epoch  31 Batch   44/46   train_loss = 2.769\n",
      "Epoch  32 Batch    8/46   train_loss = 2.783\n",
      "Epoch  32 Batch   18/46   train_loss = 2.816\n",
      "Epoch  32 Batch   28/46   train_loss = 2.576\n",
      "Epoch  32 Batch   38/46   train_loss = 2.589\n",
      "Epoch  33 Batch    2/46   train_loss = 2.641\n",
      "Epoch  33 Batch   12/46   train_loss = 2.615\n",
      "Epoch  33 Batch   22/46   train_loss = 2.675\n",
      "Epoch  33 Batch   32/46   train_loss = 2.568\n",
      "Epoch  33 Batch   42/46   train_loss = 2.718\n",
      "Epoch  34 Batch    6/46   train_loss = 2.659\n",
      "Epoch  34 Batch   16/46   train_loss = 2.538\n",
      "Epoch  34 Batch   26/46   train_loss = 2.602\n",
      "Epoch  34 Batch   36/46   train_loss = 2.561\n",
      "Epoch  35 Batch    0/46   train_loss = 2.488\n",
      "Epoch  35 Batch   10/46   train_loss = 2.594\n",
      "Epoch  35 Batch   20/46   train_loss = 2.427\n",
      "Epoch  35 Batch   30/46   train_loss = 2.691\n",
      "Epoch  35 Batch   40/46   train_loss = 2.348\n",
      "Epoch  36 Batch    4/46   train_loss = 2.614\n",
      "Epoch  36 Batch   14/46   train_loss = 2.596\n",
      "Epoch  36 Batch   24/46   train_loss = 2.485\n",
      "Epoch  36 Batch   34/46   train_loss = 2.608\n",
      "Epoch  36 Batch   44/46   train_loss = 2.487\n",
      "Epoch  37 Batch    8/46   train_loss = 2.524\n",
      "Epoch  37 Batch   18/46   train_loss = 2.564\n",
      "Epoch  37 Batch   28/46   train_loss = 2.321\n",
      "Epoch  37 Batch   38/46   train_loss = 2.289\n",
      "Epoch  38 Batch    2/46   train_loss = 2.350\n",
      "Epoch  38 Batch   12/46   train_loss = 2.346\n",
      "Epoch  38 Batch   22/46   train_loss = 2.453\n",
      "Epoch  38 Batch   32/46   train_loss = 2.301\n",
      "Epoch  38 Batch   42/46   train_loss = 2.430\n",
      "Epoch  39 Batch    6/46   train_loss = 2.381\n",
      "Epoch  39 Batch   16/46   train_loss = 2.305\n",
      "Epoch  39 Batch   26/46   train_loss = 2.346\n",
      "Epoch  39 Batch   36/46   train_loss = 2.270\n",
      "Epoch  40 Batch    0/46   train_loss = 2.220\n",
      "Epoch  40 Batch   10/46   train_loss = 2.330\n",
      "Epoch  40 Batch   20/46   train_loss = 2.154\n",
      "Epoch  40 Batch   30/46   train_loss = 2.419\n",
      "Epoch  40 Batch   40/46   train_loss = 2.093\n",
      "Epoch  41 Batch    4/46   train_loss = 2.337\n",
      "Epoch  41 Batch   14/46   train_loss = 2.325\n",
      "Epoch  41 Batch   24/46   train_loss = 2.212\n",
      "Epoch  41 Batch   34/46   train_loss = 2.331\n",
      "Epoch  41 Batch   44/46   train_loss = 2.190\n",
      "Epoch  42 Batch    8/46   train_loss = 2.219\n",
      "Epoch  42 Batch   18/46   train_loss = 2.243\n",
      "Epoch  42 Batch   28/46   train_loss = 2.029\n",
      "Epoch  42 Batch   38/46   train_loss = 2.003\n",
      "Epoch  43 Batch    2/46   train_loss = 2.026\n",
      "Epoch  43 Batch   12/46   train_loss = 2.113\n",
      "Epoch  43 Batch   22/46   train_loss = 2.178\n",
      "Epoch  43 Batch   32/46   train_loss = 2.093\n",
      "Epoch  43 Batch   42/46   train_loss = 2.216\n",
      "Epoch  44 Batch    6/46   train_loss = 2.128\n",
      "Epoch  44 Batch   16/46   train_loss = 2.108\n",
      "Epoch  44 Batch   26/46   train_loss = 2.086\n",
      "Epoch  44 Batch   36/46   train_loss = 2.085\n",
      "Epoch  45 Batch    0/46   train_loss = 2.028\n",
      "Epoch  45 Batch   10/46   train_loss = 2.124\n",
      "Epoch  45 Batch   20/46   train_loss = 1.953\n",
      "Epoch  45 Batch   30/46   train_loss = 2.213\n",
      "Epoch  45 Batch   40/46   train_loss = 1.908\n",
      "Epoch  46 Batch    4/46   train_loss = 2.162\n",
      "Epoch  46 Batch   14/46   train_loss = 2.196\n",
      "Epoch  46 Batch   24/46   train_loss = 2.049\n",
      "Epoch  46 Batch   34/46   train_loss = 2.137\n",
      "Epoch  46 Batch   44/46   train_loss = 1.979\n",
      "Epoch  47 Batch    8/46   train_loss = 2.019\n",
      "Epoch  47 Batch   18/46   train_loss = 2.068\n",
      "Epoch  47 Batch   28/46   train_loss = 1.831\n",
      "Epoch  47 Batch   38/46   train_loss = 1.884\n",
      "Epoch  48 Batch    2/46   train_loss = 1.883\n",
      "Epoch  48 Batch   12/46   train_loss = 1.890\n",
      "Epoch  48 Batch   22/46   train_loss = 2.015\n",
      "Epoch  48 Batch   32/46   train_loss = 1.903\n",
      "Epoch  48 Batch   42/46   train_loss = 2.054\n",
      "Epoch  49 Batch    6/46   train_loss = 1.956\n",
      "Epoch  49 Batch   16/46   train_loss = 1.905\n",
      "Epoch  49 Batch   26/46   train_loss = 1.843\n",
      "Epoch  49 Batch   36/46   train_loss = 1.880\n",
      "Model Trained and Saved\n"
     ]
    }
   ],
   "source": [
    "\"\"\"\n",
    "DON'T MODIFY ANYTHING IN THIS CELL\n",
    "\"\"\"\n",
    "batches = get_batches(int_text, batch_size, seq_length)\n",
    "\n",
    "with tf.Session(graph=train_graph) as sess:\n",
    "    sess.run(tf.global_variables_initializer())\n",
    "\n",
    "    for epoch_i in range(num_epochs):\n",
    "        state = sess.run(initial_state, {input_text: batches[0][0]})\n",
    "\n",
    "        for batch_i, (x, y) in enumerate(batches):\n",
    "            feed = {\n",
    "                input_text: x,\n",
    "                targets: y,\n",
    "                initial_state: state,\n",
    "                lr: learning_rate}\n",
    "            train_loss, state, _ = sess.run([cost, final_state, train_op], feed)\n",
    "\n",
    "            # Show every <show_every_n_batches> batches\n",
    "            if (epoch_i * len(batches) + batch_i) % show_every_n_batches == 0:\n",
    "                print('Epoch {:>3} Batch {:>4}/{}   train_loss = {:.3f}'.format(\n",
    "                    epoch_i,\n",
    "                    batch_i,\n",
    "                    len(batches),\n",
    "                    train_loss))\n",
    "\n",
    "    # Save Model\n",
    "    saver = tf.train.Saver()\n",
    "    saver.save(sess, save_dir)\n",
    "    print('Model Trained and Saved')"
   ]
  },
  {
   "cell_type": "markdown",
   "metadata": {
    "deletable": true,
    "editable": true
   },
   "source": [
    "## Save Parameters\n",
    "Save `seq_length` and `save_dir` for generating a new TV script."
   ]
  },
  {
   "cell_type": "code",
   "execution_count": 157,
   "metadata": {
    "collapsed": false,
    "deletable": true,
    "editable": true
   },
   "outputs": [],
   "source": [
    "\"\"\"\n",
    "DON'T MODIFY ANYTHING IN THIS CELL\n",
    "\"\"\"\n",
    "# Save parameters for checkpoint\n",
    "helper.save_params((seq_length, save_dir))"
   ]
  },
  {
   "cell_type": "markdown",
   "metadata": {
    "deletable": true,
    "editable": true
   },
   "source": [
    "# Checkpoint"
   ]
  },
  {
   "cell_type": "code",
   "execution_count": 158,
   "metadata": {
    "collapsed": false,
    "deletable": true,
    "editable": true
   },
   "outputs": [],
   "source": [
    "\"\"\"\n",
    "DON'T MODIFY ANYTHING IN THIS CELL\n",
    "\"\"\"\n",
    "import tensorflow as tf\n",
    "import numpy as np\n",
    "import helper\n",
    "import problem_unittests as tests\n",
    "\n",
    "_, vocab_to_int, int_to_vocab, token_dict = helper.load_preprocess()\n",
    "seq_length, load_dir = helper.load_params()"
   ]
  },
  {
   "cell_type": "markdown",
   "metadata": {
    "deletable": true,
    "editable": true
   },
   "source": [
    "## Implement Generate Functions\n",
    "### Get Tensors\n",
    "Get tensors from `loaded_graph` using the function [`get_tensor_by_name()`](https://www.tensorflow.org/api_docs/python/tf/Graph#get_tensor_by_name).  Get the tensors using the following names:\n",
    "- \"input:0\"\n",
    "- \"initial_state:0\"\n",
    "- \"final_state:0\"\n",
    "- \"probs:0\"\n",
    "\n",
    "Return the tensors in the following tuple `(InputTensor, InitialStateTensor, FinalStateTensor, ProbsTensor)` "
   ]
  },
  {
   "cell_type": "code",
   "execution_count": 159,
   "metadata": {
    "collapsed": false,
    "deletable": true,
    "editable": true
   },
   "outputs": [
    {
     "name": "stdout",
     "output_type": "stream",
     "text": [
      "Tests Passed\n"
     ]
    }
   ],
   "source": [
    "def get_tensors(loaded_graph):\n",
    "    \"\"\"\n",
    "    Get input, initial state, final state, and probabilities tensor from <loaded_graph>\n",
    "    :param loaded_graph: TensorFlow graph loaded from file\n",
    "    :return: Tuple (InputTensor, InitialStateTensor, FinalStateTensor, ProbsTensor)\n",
    "    \"\"\"\n",
    "    # TODO: Implement Function\n",
    "    InputTensor = loaded_graph.get_tensor_by_name('input:0')\n",
    "    InitialStateTensor = loaded_graph.get_tensor_by_name('initial_state:0')\n",
    "    FinalStateTensor = loaded_graph.get_tensor_by_name('final_state:0')\n",
    "    ProbsTensor = loaded_graph.get_tensor_by_name('probs:0')\n",
    "    return InputTensor, InitialStateTensor, FinalStateTensor, ProbsTensor\n",
    "\n",
    "\n",
    "\"\"\"\n",
    "DON'T MODIFY ANYTHING IN THIS CELL THAT IS BELOW THIS LINE\n",
    "\"\"\"\n",
    "tests.test_get_tensors(get_tensors)"
   ]
  },
  {
   "cell_type": "markdown",
   "metadata": {
    "deletable": true,
    "editable": true
   },
   "source": [
    "### Choose Word\n",
    "Implement the `pick_word()` function to select the next word using `probabilities`."
   ]
  },
  {
   "cell_type": "code",
   "execution_count": 160,
   "metadata": {
    "collapsed": false,
    "deletable": true,
    "editable": true
   },
   "outputs": [
    {
     "name": "stdout",
     "output_type": "stream",
     "text": [
      "Tests Passed\n"
     ]
    }
   ],
   "source": [
    "def pick_word(probabilities, int_to_vocab):\n",
    "    \"\"\"\n",
    "    Pick the next word in the generated text\n",
    "    :param probabilities: Probabilites of the next word\n",
    "    :param int_to_vocab: Dictionary of word ids as the keys and words as the values\n",
    "    :return: String of the predicted word\n",
    "    \"\"\"\n",
    "    # TODO: Implement Function\n",
    "    return int_to_vocab[np.argmax(probabilities)]\n",
    "\n",
    "\n",
    "\"\"\"\n",
    "DON'T MODIFY ANYTHING IN THIS CELL THAT IS BELOW THIS LINE\n",
    "\"\"\"\n",
    "tests.test_pick_word(pick_word)"
   ]
  },
  {
   "cell_type": "markdown",
   "metadata": {
    "deletable": true,
    "editable": true
   },
   "source": [
    "## Generate TV Script\n",
    "This will generate the TV script for you.  Set `gen_length` to the length of TV script you want to generate."
   ]
  },
  {
   "cell_type": "code",
   "execution_count": 161,
   "metadata": {
    "collapsed": false,
    "deletable": true,
    "editable": true,
    "scrolled": false
   },
   "outputs": [
    {
     "name": "stdout",
     "output_type": "stream",
     "text": [
      "moe_szyslak:(entering,\" and,\" to the bar rag.\n",
      "homer_simpson:(singing) to the best break.\n",
      "moe_szyslak:(lying) i think i need to do?\n",
      "homer_simpson:(grumpy) hey, barney, hey, i hope...(loud) you're looking for a money?\n",
      "moe_szyslak:(singing) all right, i can't believe.\n",
      "moe_szyslak:(warily) i thought you had a money to get a money.\n",
      "homer_simpson:(groans) except it!\n",
      "moe_szyslak:(frustrated) all right, homer.\n",
      "moe_szyslak:(aside) barney, principal...(holding away) to break, homer.\n",
      "chief_wiggum:(sadly) i got a lot of catching in in the other night.\n",
      "barney_gumble:(naively) i pulled a bike...\n",
      "homer_simpson:(to barflies) the car.\n",
      "homer_simpson:(sincere) you know, moe.\n",
      "homer_simpson:(reading)) oh, moe.\n",
      "moe_szyslak:(lying) no, i knew you'd eat steak and cakes and pets and\n"
     ]
    }
   ],
   "source": [
    "gen_length = 200\n",
    "# homer_simpson, moe_szyslak, or Barney_Gumble\n",
    "prime_word = 'moe_szyslak'\n",
    "\n",
    "\"\"\"\n",
    "DON'T MODIFY ANYTHING IN THIS CELL THAT IS BELOW THIS LINE\n",
    "\"\"\"\n",
    "loaded_graph = tf.Graph()\n",
    "with tf.Session(graph=loaded_graph) as sess:\n",
    "    # Load saved model\n",
    "    loader = tf.train.import_meta_graph(load_dir + '.meta')\n",
    "    loader.restore(sess, load_dir)\n",
    "\n",
    "    # Get Tensors from loaded model\n",
    "    input_text, initial_state, final_state, probs = get_tensors(loaded_graph)\n",
    "\n",
    "    # Sentences generation setup\n",
    "    gen_sentences = [prime_word + ':']\n",
    "    prev_state = sess.run(initial_state, {input_text: np.array([[1]])})\n",
    "\n",
    "    # Generate sentences\n",
    "    for n in range(gen_length):\n",
    "        # Dynamic Input\n",
    "        dyn_input = [[vocab_to_int[word] for word in gen_sentences[-seq_length:]]]\n",
    "        dyn_seq_length = len(dyn_input[0])\n",
    "\n",
    "        # Get Prediction\n",
    "        probabilities, prev_state = sess.run(\n",
    "            [probs, final_state],\n",
    "            {input_text: dyn_input, initial_state: prev_state})\n",
    "        \n",
    "        pred_word = pick_word(probabilities[dyn_seq_length-1], int_to_vocab)\n",
    "\n",
    "        gen_sentences.append(pred_word)\n",
    "    \n",
    "    # Remove tokens\n",
    "    tv_script = ' '.join(gen_sentences)\n",
    "    for key, token in token_dict.items():\n",
    "        ending = ' ' if key in ['\\n', '(', '\"'] else ''\n",
    "        tv_script = tv_script.replace(' ' + token.lower(), key)\n",
    "    tv_script = tv_script.replace('\\n ', '\\n')\n",
    "    tv_script = tv_script.replace('( ', '(')\n",
    "        \n",
    "    print(tv_script)"
   ]
  },
  {
   "cell_type": "markdown",
   "metadata": {
    "deletable": true,
    "editable": true
   },
   "source": [
    "# The TV Script is Nonsensical\n",
    "It's ok if the TV script doesn't make any sense.  We trained on less than a megabyte of text.  In order to get good results, you'll have to use a smaller vocabulary or get more data.  Luckly there's more data!  As we mentioned in the begging of this project, this is a subset of [another dataset](https://www.kaggle.com/wcukierski/the-simpsons-by-the-data).  We didn't have you train on all the data, because that would take too long.  However, you are free to train your neural network on all the data.  After you complete the project, of course.\n",
    "# Submitting This Project\n",
    "When submitting this project, make sure to run all the cells before saving the notebook. Save the notebook file as \"dlnd_tv_script_generation.ipynb\" and save it as a HTML file under \"File\" -> \"Download as\". Include the \"helper.py\" and \"problem_unittests.py\" files in your submission."
   ]
  },
  {
   "cell_type": "code",
   "execution_count": null,
   "metadata": {
    "collapsed": true
   },
   "outputs": [],
   "source": []
  }
 ],
 "metadata": {
  "kernelspec": {
   "display_name": "Python 3",
   "language": "python",
   "name": "python3"
  },
  "language_info": {
   "codemirror_mode": {
    "name": "ipython",
    "version": 3
   },
   "file_extension": ".py",
   "mimetype": "text/x-python",
   "name": "python",
   "nbconvert_exporter": "python",
   "pygments_lexer": "ipython3",
   "version": "3.6.0"
  }
 },
 "nbformat": 4,
 "nbformat_minor": 0
}
